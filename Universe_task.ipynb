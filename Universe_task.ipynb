{
 "cells": [
  {
   "cell_type": "code",
   "execution_count": 1,
   "metadata": {},
   "outputs": [],
   "source": [
    "import pandas as pd\n",
    "import numpy as np\n",
    "import matplotlib.pyplot as plt\n",
    "import seaborn as sns\n",
    "import matplotlib.dates as mdates\n",
    "import datetime\n",
    "import warnings\n",
    "warnings.filterwarnings('ignore')\n",
    "%matplotlib inline"
   ]
  },
  {
   "cell_type": "markdown",
   "metadata": {},
   "source": [
    "# Тестове завдання Universe\n",
    "\n",
    "Ваше завдання:\n",
    "\n",
    "● Проведіть аналіз якості даних та зробіть очистку, якщо є потреба.\n",
    "\n",
    "● Побудуйте розподіл того, скільки днів проходить між тріалом та першою оплатою,\n",
    "опишіть висновки.\n",
    "\n",
    "● Розрахуйте фактичний LTV за 26 тижнів життя юзера.\n",
    "\n",
    "● Вартість залучення користувача 6 USD. Оцініть, за скільки днів настає окупність\n",
    "(всіх залучених юзерів, а не тільки платників)"
   ]
  },
  {
   "cell_type": "markdown",
   "metadata": {},
   "source": [
    "## Завдання 1. Аналіз якості даних"
   ]
  },
  {
   "cell_type": "code",
   "execution_count": 2,
   "metadata": {},
   "outputs": [
    {
     "data": {
      "text/html": [
       "<div>\n",
       "<style scoped>\n",
       "    .dataframe tbody tr th:only-of-type {\n",
       "        vertical-align: middle;\n",
       "    }\n",
       "\n",
       "    .dataframe tbody tr th {\n",
       "        vertical-align: top;\n",
       "    }\n",
       "\n",
       "    .dataframe thead th {\n",
       "        text-align: right;\n",
       "    }\n",
       "</style>\n",
       "<table border=\"1\" class=\"dataframe\">\n",
       "  <thead>\n",
       "    <tr style=\"text-align: right;\">\n",
       "      <th></th>\n",
       "      <th>user_id</th>\n",
       "      <th>period</th>\n",
       "      <th>first_datetime</th>\n",
       "      <th>purchase_datetime</th>\n",
       "      <th>net_revenue_usd</th>\n",
       "      <th>country_code</th>\n",
       "      <th>product_id</th>\n",
       "    </tr>\n",
       "  </thead>\n",
       "  <tbody>\n",
       "    <tr>\n",
       "      <th>0</th>\n",
       "      <td>201670307778915</td>\n",
       "      <td>7</td>\n",
       "      <td>2022-02-25T00:00:00Z</td>\n",
       "      <td>2022-02-25T00:00:00Z</td>\n",
       "      <td>0.0</td>\n",
       "      <td>US</td>\n",
       "      <td>week_7daytrial_6.99_new</td>\n",
       "    </tr>\n",
       "    <tr>\n",
       "      <th>1</th>\n",
       "      <td>23692621</td>\n",
       "      <td>7</td>\n",
       "      <td>2022-01-21T00:00:00Z</td>\n",
       "      <td>2022-01-21T00:00:00Z</td>\n",
       "      <td>0.0</td>\n",
       "      <td>US</td>\n",
       "      <td>week_7daytrial_6.99_new</td>\n",
       "    </tr>\n",
       "    <tr>\n",
       "      <th>2</th>\n",
       "      <td>27149658718225</td>\n",
       "      <td>7</td>\n",
       "      <td>2022-01-22T00:00:00Z</td>\n",
       "      <td>2022-01-22T00:00:00Z</td>\n",
       "      <td>0.0</td>\n",
       "      <td>JP</td>\n",
       "      <td>week_7daytrial_6.99_new</td>\n",
       "    </tr>\n",
       "    <tr>\n",
       "      <th>3</th>\n",
       "      <td>29101847306251</td>\n",
       "      <td>7</td>\n",
       "      <td>2021-12-05T00:00:00Z</td>\n",
       "      <td>2021-12-05T00:00:00Z</td>\n",
       "      <td>0.0</td>\n",
       "      <td>HU</td>\n",
       "      <td>week_7daytrial_6.99_new</td>\n",
       "    </tr>\n",
       "    <tr>\n",
       "      <th>4</th>\n",
       "      <td>29191495221901</td>\n",
       "      <td>7</td>\n",
       "      <td>2021-11-27T00:00:00Z</td>\n",
       "      <td>2021-11-27T00:00:00Z</td>\n",
       "      <td>0.0</td>\n",
       "      <td>ME</td>\n",
       "      <td>week_7daytrial_6.99_new</td>\n",
       "    </tr>\n",
       "  </tbody>\n",
       "</table>\n",
       "</div>"
      ],
      "text/plain": [
       "           user_id  period        first_datetime     purchase_datetime  \\\n",
       "0  201670307778915       7  2022-02-25T00:00:00Z  2022-02-25T00:00:00Z   \n",
       "1         23692621       7  2022-01-21T00:00:00Z  2022-01-21T00:00:00Z   \n",
       "2   27149658718225       7  2022-01-22T00:00:00Z  2022-01-22T00:00:00Z   \n",
       "3   29101847306251       7  2021-12-05T00:00:00Z  2021-12-05T00:00:00Z   \n",
       "4   29191495221901       7  2021-11-27T00:00:00Z  2021-11-27T00:00:00Z   \n",
       "\n",
       "   net_revenue_usd country_code               product_id  \n",
       "0              0.0           US  week_7daytrial_6.99_new  \n",
       "1              0.0           US  week_7daytrial_6.99_new  \n",
       "2              0.0           JP  week_7daytrial_6.99_new  \n",
       "3              0.0           HU  week_7daytrial_6.99_new  \n",
       "4              0.0           ME  week_7daytrial_6.99_new  "
      ]
     },
     "execution_count": 2,
     "metadata": {},
     "output_type": "execute_result"
    }
   ],
   "source": [
    "df =  pd.read_csv('task1.csv')\n",
    "df.head(5)"
   ]
  },
  {
   "cell_type": "code",
   "execution_count": 3,
   "metadata": {},
   "outputs": [
    {
     "name": "stdout",
     "output_type": "stream",
     "text": [
      "<class 'pandas.core.frame.DataFrame'>\n",
      "RangeIndex: 1043986 entries, 0 to 1043985\n",
      "Data columns (total 7 columns):\n",
      " #   Column             Non-Null Count    Dtype  \n",
      "---  ------             --------------    -----  \n",
      " 0   user_id            1043986 non-null  int64  \n",
      " 1   period             1043986 non-null  int64  \n",
      " 2   first_datetime     1043986 non-null  object \n",
      " 3   purchase_datetime  1043986 non-null  object \n",
      " 4   net_revenue_usd    1043986 non-null  float64\n",
      " 5   country_code       1039328 non-null  object \n",
      " 6   product_id         1043986 non-null  object \n",
      "dtypes: float64(1), int64(2), object(4)\n",
      "memory usage: 55.8+ MB\n"
     ]
    }
   ],
   "source": [
    "df.info()"
   ]
  },
  {
   "cell_type": "code",
   "execution_count": 4,
   "metadata": {},
   "outputs": [
    {
     "data": {
      "text/plain": [
       "(1043986, 7)"
      ]
     },
     "execution_count": 4,
     "metadata": {},
     "output_type": "execute_result"
    }
   ],
   "source": [
    "df.shape"
   ]
  },
  {
   "cell_type": "markdown",
   "metadata": {},
   "source": [
    "Приведемо значення до правильного формату."
   ]
  },
  {
   "cell_type": "markdown",
   "metadata": {},
   "source": [
    "Змінимо тип поля user_id на string та приведемо first_datetime, purchase_datetime до типу datetime."
   ]
  },
  {
   "cell_type": "code",
   "execution_count": 5,
   "metadata": {},
   "outputs": [],
   "source": [
    "df['user_id'] = df['user_id'].astype(str)\n",
    "df['first_datetime'] = pd.to_datetime(df['first_datetime'], format = '%Y-%m-%dT%H:%M:%SZ')\n",
    "df['purchase_datetime'] = pd.to_datetime(df['purchase_datetime'], format = '%Y-%m-%dT%H:%M:%SZ')"
   ]
  },
  {
   "cell_type": "markdown",
   "metadata": {},
   "source": [
    "Спостерігаємо наявність пропусків в колонці country_code. Подивимося на відсоток пропущених значень"
   ]
  },
  {
   "cell_type": "code",
   "execution_count": 6,
   "metadata": {},
   "outputs": [
    {
     "name": "stdout",
     "output_type": "stream",
     "text": [
      "Відсоток пропущенних даних в country_code: 0.446%\n"
     ]
    }
   ],
   "source": [
    "per_null_country = df['country_code'].isna().value_counts(normalize  = True)[True]*100\n",
    "print(f\"Відсоток пропущенних даних в country_code: {round(per_null_country, 3)}%\")"
   ]
  },
  {
   "cell_type": "markdown",
   "metadata": {},
   "source": [
    "Замінимо Null значення рядком 'Undefined'"
   ]
  },
  {
   "cell_type": "code",
   "execution_count": 7,
   "metadata": {},
   "outputs": [],
   "source": [
    "df['country_code'].fillna('Undefined', inplace = True)"
   ]
  },
  {
   "cell_type": "code",
   "execution_count": 8,
   "metadata": {},
   "outputs": [
    {
     "data": {
      "text/html": [
       "<div>\n",
       "<style scoped>\n",
       "    .dataframe tbody tr th:only-of-type {\n",
       "        vertical-align: middle;\n",
       "    }\n",
       "\n",
       "    .dataframe tbody tr th {\n",
       "        vertical-align: top;\n",
       "    }\n",
       "\n",
       "    .dataframe thead th {\n",
       "        text-align: right;\n",
       "    }\n",
       "</style>\n",
       "<table border=\"1\" class=\"dataframe\">\n",
       "  <thead>\n",
       "    <tr style=\"text-align: right;\">\n",
       "      <th></th>\n",
       "      <th>user_id</th>\n",
       "      <th>period</th>\n",
       "      <th>first_datetime</th>\n",
       "      <th>purchase_datetime</th>\n",
       "      <th>net_revenue_usd</th>\n",
       "      <th>country_code</th>\n",
       "      <th>product_id</th>\n",
       "    </tr>\n",
       "  </thead>\n",
       "  <tbody>\n",
       "    <tr>\n",
       "      <th>count</th>\n",
       "      <td>1043986</td>\n",
       "      <td>1.043986e+06</td>\n",
       "      <td>1043986</td>\n",
       "      <td>1043986</td>\n",
       "      <td>1.043986e+06</td>\n",
       "      <td>1043986</td>\n",
       "      <td>1043986</td>\n",
       "    </tr>\n",
       "    <tr>\n",
       "      <th>unique</th>\n",
       "      <td>268799</td>\n",
       "      <td>NaN</td>\n",
       "      <td>248</td>\n",
       "      <td>256</td>\n",
       "      <td>NaN</td>\n",
       "      <td>221</td>\n",
       "      <td>3</td>\n",
       "    </tr>\n",
       "    <tr>\n",
       "      <th>top</th>\n",
       "      <td>16273015</td>\n",
       "      <td>NaN</td>\n",
       "      <td>2021-09-15 00:00:00</td>\n",
       "      <td>2022-03-10 00:00:00</td>\n",
       "      <td>NaN</td>\n",
       "      <td>US</td>\n",
       "      <td>week_7daytrial_6.99_new</td>\n",
       "    </tr>\n",
       "    <tr>\n",
       "      <th>freq</th>\n",
       "      <td>3500</td>\n",
       "      <td>NaN</td>\n",
       "      <td>9865</td>\n",
       "      <td>6401</td>\n",
       "      <td>NaN</td>\n",
       "      <td>324181</td>\n",
       "      <td>1042256</td>\n",
       "    </tr>\n",
       "    <tr>\n",
       "      <th>first</th>\n",
       "      <td>NaN</td>\n",
       "      <td>NaN</td>\n",
       "      <td>2021-08-01 00:00:00</td>\n",
       "      <td>2021-06-20 00:00:00</td>\n",
       "      <td>NaN</td>\n",
       "      <td>NaN</td>\n",
       "      <td>NaN</td>\n",
       "    </tr>\n",
       "    <tr>\n",
       "      <th>last</th>\n",
       "      <td>NaN</td>\n",
       "      <td>NaN</td>\n",
       "      <td>2022-04-05 00:00:00</td>\n",
       "      <td>2022-04-05 00:00:00</td>\n",
       "      <td>NaN</td>\n",
       "      <td>NaN</td>\n",
       "      <td>NaN</td>\n",
       "    </tr>\n",
       "    <tr>\n",
       "      <th>mean</th>\n",
       "      <td>NaN</td>\n",
       "      <td>7.273647e+00</td>\n",
       "      <td>NaN</td>\n",
       "      <td>NaN</td>\n",
       "      <td>3.569415e+00</td>\n",
       "      <td>NaN</td>\n",
       "      <td>NaN</td>\n",
       "    </tr>\n",
       "    <tr>\n",
       "      <th>std</th>\n",
       "      <td>NaN</td>\n",
       "      <td>9.893986e+00</td>\n",
       "      <td>NaN</td>\n",
       "      <td>NaN</td>\n",
       "      <td>2.212534e+00</td>\n",
       "      <td>NaN</td>\n",
       "      <td>NaN</td>\n",
       "    </tr>\n",
       "    <tr>\n",
       "      <th>min</th>\n",
       "      <td>NaN</td>\n",
       "      <td>7.000000e+00</td>\n",
       "      <td>NaN</td>\n",
       "      <td>NaN</td>\n",
       "      <td>0.000000e+00</td>\n",
       "      <td>NaN</td>\n",
       "      <td>NaN</td>\n",
       "    </tr>\n",
       "    <tr>\n",
       "      <th>25%</th>\n",
       "      <td>NaN</td>\n",
       "      <td>7.000000e+00</td>\n",
       "      <td>NaN</td>\n",
       "      <td>NaN</td>\n",
       "      <td>0.000000e+00</td>\n",
       "      <td>NaN</td>\n",
       "      <td>NaN</td>\n",
       "    </tr>\n",
       "    <tr>\n",
       "      <th>50%</th>\n",
       "      <td>NaN</td>\n",
       "      <td>7.000000e+00</td>\n",
       "      <td>NaN</td>\n",
       "      <td>NaN</td>\n",
       "      <td>4.890000e+00</td>\n",
       "      <td>NaN</td>\n",
       "      <td>NaN</td>\n",
       "    </tr>\n",
       "    <tr>\n",
       "      <th>75%</th>\n",
       "      <td>NaN</td>\n",
       "      <td>7.000000e+00</td>\n",
       "      <td>NaN</td>\n",
       "      <td>NaN</td>\n",
       "      <td>4.890000e+00</td>\n",
       "      <td>NaN</td>\n",
       "      <td>NaN</td>\n",
       "    </tr>\n",
       "    <tr>\n",
       "      <th>max</th>\n",
       "      <td>NaN</td>\n",
       "      <td>3.650000e+02</td>\n",
       "      <td>NaN</td>\n",
       "      <td>NaN</td>\n",
       "      <td>3.499000e+01</td>\n",
       "      <td>NaN</td>\n",
       "      <td>NaN</td>\n",
       "    </tr>\n",
       "  </tbody>\n",
       "</table>\n",
       "</div>"
      ],
      "text/plain": [
       "         user_id        period       first_datetime    purchase_datetime  \\\n",
       "count    1043986  1.043986e+06              1043986              1043986   \n",
       "unique    268799           NaN                  248                  256   \n",
       "top     16273015           NaN  2021-09-15 00:00:00  2022-03-10 00:00:00   \n",
       "freq        3500           NaN                 9865                 6401   \n",
       "first        NaN           NaN  2021-08-01 00:00:00  2021-06-20 00:00:00   \n",
       "last         NaN           NaN  2022-04-05 00:00:00  2022-04-05 00:00:00   \n",
       "mean         NaN  7.273647e+00                  NaN                  NaN   \n",
       "std          NaN  9.893986e+00                  NaN                  NaN   \n",
       "min          NaN  7.000000e+00                  NaN                  NaN   \n",
       "25%          NaN  7.000000e+00                  NaN                  NaN   \n",
       "50%          NaN  7.000000e+00                  NaN                  NaN   \n",
       "75%          NaN  7.000000e+00                  NaN                  NaN   \n",
       "max          NaN  3.650000e+02                  NaN                  NaN   \n",
       "\n",
       "        net_revenue_usd country_code               product_id  \n",
       "count      1.043986e+06      1043986                  1043986  \n",
       "unique              NaN          221                        3  \n",
       "top                 NaN           US  week_7daytrial_6.99_new  \n",
       "freq                NaN       324181                  1042256  \n",
       "first               NaN          NaN                      NaN  \n",
       "last                NaN          NaN                      NaN  \n",
       "mean       3.569415e+00          NaN                      NaN  \n",
       "std        2.212534e+00          NaN                      NaN  \n",
       "min        0.000000e+00          NaN                      NaN  \n",
       "25%        0.000000e+00          NaN                      NaN  \n",
       "50%        4.890000e+00          NaN                      NaN  \n",
       "75%        4.890000e+00          NaN                      NaN  \n",
       "max        3.499000e+01          NaN                      NaN  "
      ]
     },
     "execution_count": 8,
     "metadata": {},
     "output_type": "execute_result"
    }
   ],
   "source": [
    "df.describe(include = 'all')"
   ]
  },
  {
   "cell_type": "markdown",
   "metadata": {},
   "source": [
    "Мінімальна дата поточної операції стоїть раніше мінімальної дати першої операції користовуча. Видалимо дані, які описують операції, які не могла початися раніше першої історичної операції користувача.\n"
   ]
  },
  {
   "cell_type": "code",
   "execution_count": 9,
   "metadata": {},
   "outputs": [
    {
     "name": "stdout",
     "output_type": "stream",
     "text": [
      "Всього видалено 8 підозрілих операцій\n"
     ]
    }
   ],
   "source": [
    "print(f\"Всього видалено {len(df[df['purchase_datetime'] < df['first_datetime'].min()])} підозрілих операцій\")\n",
    "df = df.drop(np.where(df['purchase_datetime'] < df['first_datetime'].min())[0])\n"
   ]
  },
  {
   "cell_type": "markdown",
   "metadata": {},
   "source": [
    "Поглянемо на правильність даних про отримання коштів за підписки."
   ]
  },
  {
   "cell_type": "code",
   "execution_count": 10,
   "metadata": {},
   "outputs": [
    {
     "data": {
      "text/plain": [
       "4.89    679\n",
       "0.00    253\n",
       "Name: net_revenue_usd, dtype: int64"
      ]
     },
     "execution_count": 10,
     "metadata": {},
     "output_type": "execute_result"
    }
   ],
   "source": [
    "df[df['product_id'] == 'week_7daytrial_6.99']['net_revenue_usd'].value_counts()"
   ]
  },
  {
   "cell_type": "markdown",
   "metadata": {},
   "source": [
    "245 записів відповідають продовженню підписки на 7 днів, але кошти ми не отримали, хоча тріал неможливий при продовженні підписки."
   ]
  },
  {
   "cell_type": "code",
   "execution_count": 11,
   "metadata": {},
   "outputs": [
    {
     "data": {
      "text/plain": [
       "4.89    760074\n",
       "0.00    282174\n",
       "Name: net_revenue_usd, dtype: int64"
      ]
     },
     "execution_count": 11,
     "metadata": {},
     "output_type": "execute_result"
    }
   ],
   "source": [
    "df[df['product_id'] == 'week_7daytrial_6.99_new']['net_revenue_usd'].value_counts()"
   ]
  },
  {
   "cell_type": "markdown",
   "metadata": {},
   "source": [
    "З підписками на тиждень або тріалом все окей"
   ]
  },
  {
   "cell_type": "code",
   "execution_count": 12,
   "metadata": {},
   "outputs": [
    {
     "data": {
      "text/plain": [
       "Text(0.5, 0.98, 'product_id')"
      ]
     },
     "execution_count": 12,
     "metadata": {},
     "output_type": "execute_result"
    },
    {
     "data": {
      "image/png": "[encoded data removed]",
      "text/plain": [
       "<Figure size 432x288 with 2 Axes>"
      ]
     },
     "metadata": {
      "needs_background": "light"
     },
     "output_type": "display_data"
    }
   ],
   "source": [
    "plt.subplot(1, 2, 1)\n",
    "plt.hist(df[df['product_id'] == 'week_7daytrial_6.99_new']['net_revenue_usd'], alpha = 0.5, color = 'red', label = 'week_new')\n",
    "plt.legend(loc='upper right')\n",
    "plt.subplot(1, 2, 2)\n",
    "plt.hist(df[df['product_id'] == 'week_7daytrial_6.99']['net_revenue_usd'], alpha = 0.5, color = 'blue', label = 'week')\n",
    "plt.legend(loc='upper right')\n",
    "plt.suptitle('product_id')"
   ]
  },
  {
   "cell_type": "markdown",
   "metadata": {},
   "source": [
    "Спостерігаємо однакову поведінку гістограм 'week_7daytrial_6.99' та 'week_7daytrial_6.99_new'. Можемо вважати що це один і той самий вид підписки. Запишимо все як 'week_7daytrial_6.99_new'."
   ]
  },
  {
   "cell_type": "code",
   "execution_count": 13,
   "metadata": {},
   "outputs": [],
   "source": [
    "df['product_id'] = df['product_id'].replace(['week_7daytrial_6.99'], 'week_7daytrial_6.99_new')"
   ]
  },
  {
   "cell_type": "code",
   "execution_count": 14,
   "metadata": {},
   "outputs": [
    {
     "data": {
      "text/plain": [
       "0.00     618\n",
       "34.99    180\n",
       "Name: net_revenue_usd, dtype: int64"
      ]
     },
     "execution_count": 14,
     "metadata": {},
     "output_type": "execute_result"
    }
   ],
   "source": [
    "df[df['product_id'] == 'year_7daytrial_49.99_new']['net_revenue_usd'].value_counts()"
   ]
  },
  {
   "cell_type": "markdown",
   "metadata": {},
   "source": [
    "584 рядків це дані після проходження тріалу, але коли користувач відмовився від річної підписки. "
   ]
  },
  {
   "cell_type": "markdown",
   "metadata": {},
   "source": [
    "Виявимо та очистимо дуплікати"
   ]
  },
  {
   "cell_type": "code",
   "execution_count": 15,
   "metadata": {
    "scrolled": true
   },
   "outputs": [
    {
     "data": {
      "text/html": [
       "<div>\n",
       "<style scoped>\n",
       "    .dataframe tbody tr th:only-of-type {\n",
       "        vertical-align: middle;\n",
       "    }\n",
       "\n",
       "    .dataframe tbody tr th {\n",
       "        vertical-align: top;\n",
       "    }\n",
       "\n",
       "    .dataframe thead th {\n",
       "        text-align: right;\n",
       "    }\n",
       "</style>\n",
       "<table border=\"1\" class=\"dataframe\">\n",
       "  <thead>\n",
       "    <tr style=\"text-align: right;\">\n",
       "      <th></th>\n",
       "      <th>user_id</th>\n",
       "      <th>period</th>\n",
       "      <th>first_datetime</th>\n",
       "      <th>purchase_datetime</th>\n",
       "      <th>net_revenue_usd</th>\n",
       "      <th>country_code</th>\n",
       "      <th>product_id</th>\n",
       "    </tr>\n",
       "  </thead>\n",
       "  <tbody>\n",
       "    <tr>\n",
       "      <th>10</th>\n",
       "      <td>3175269</td>\n",
       "      <td>7</td>\n",
       "      <td>2021-10-27</td>\n",
       "      <td>2021-10-27</td>\n",
       "      <td>0.00</td>\n",
       "      <td>CI</td>\n",
       "      <td>week_7daytrial_6.99_new</td>\n",
       "    </tr>\n",
       "    <tr>\n",
       "      <th>12</th>\n",
       "      <td>3175269</td>\n",
       "      <td>7</td>\n",
       "      <td>2021-10-27</td>\n",
       "      <td>2021-11-11</td>\n",
       "      <td>4.89</td>\n",
       "      <td>CI</td>\n",
       "      <td>week_7daytrial_6.99_new</td>\n",
       "    </tr>\n",
       "    <tr>\n",
       "      <th>14</th>\n",
       "      <td>3175269</td>\n",
       "      <td>7</td>\n",
       "      <td>2021-10-27</td>\n",
       "      <td>2021-11-18</td>\n",
       "      <td>4.89</td>\n",
       "      <td>CI</td>\n",
       "      <td>week_7daytrial_6.99_new</td>\n",
       "    </tr>\n",
       "    <tr>\n",
       "      <th>16</th>\n",
       "      <td>3175269</td>\n",
       "      <td>7</td>\n",
       "      <td>2021-10-27</td>\n",
       "      <td>2021-11-25</td>\n",
       "      <td>4.89</td>\n",
       "      <td>CI</td>\n",
       "      <td>week_7daytrial_6.99_new</td>\n",
       "    </tr>\n",
       "    <tr>\n",
       "      <th>275</th>\n",
       "      <td>98991984695457</td>\n",
       "      <td>7</td>\n",
       "      <td>2021-08-27</td>\n",
       "      <td>2021-08-27</td>\n",
       "      <td>0.00</td>\n",
       "      <td>CZ</td>\n",
       "      <td>week_7daytrial_6.99_new</td>\n",
       "    </tr>\n",
       "    <tr>\n",
       "      <th>...</th>\n",
       "      <td>...</td>\n",
       "      <td>...</td>\n",
       "      <td>...</td>\n",
       "      <td>...</td>\n",
       "      <td>...</td>\n",
       "      <td>...</td>\n",
       "      <td>...</td>\n",
       "    </tr>\n",
       "    <tr>\n",
       "      <th>1043908</th>\n",
       "      <td>61906646031555</td>\n",
       "      <td>365</td>\n",
       "      <td>2021-08-11</td>\n",
       "      <td>2021-08-11</td>\n",
       "      <td>0.00</td>\n",
       "      <td>UK</td>\n",
       "      <td>year_7daytrial_49.99_new</td>\n",
       "    </tr>\n",
       "    <tr>\n",
       "      <th>1043909</th>\n",
       "      <td>61906646031555</td>\n",
       "      <td>365</td>\n",
       "      <td>2021-08-11</td>\n",
       "      <td>2021-08-11</td>\n",
       "      <td>0.00</td>\n",
       "      <td>UK</td>\n",
       "      <td>year_7daytrial_49.99_new</td>\n",
       "    </tr>\n",
       "    <tr>\n",
       "      <th>1043911</th>\n",
       "      <td>61906646031555</td>\n",
       "      <td>365</td>\n",
       "      <td>2021-08-11</td>\n",
       "      <td>2021-08-18</td>\n",
       "      <td>34.99</td>\n",
       "      <td>UK</td>\n",
       "      <td>year_7daytrial_49.99_new</td>\n",
       "    </tr>\n",
       "    <tr>\n",
       "      <th>1043912</th>\n",
       "      <td>61906646031555</td>\n",
       "      <td>365</td>\n",
       "      <td>2021-08-11</td>\n",
       "      <td>2021-08-18</td>\n",
       "      <td>34.99</td>\n",
       "      <td>UK</td>\n",
       "      <td>year_7daytrial_49.99_new</td>\n",
       "    </tr>\n",
       "    <tr>\n",
       "      <th>1043913</th>\n",
       "      <td>61906646031555</td>\n",
       "      <td>365</td>\n",
       "      <td>2021-08-11</td>\n",
       "      <td>2021-08-18</td>\n",
       "      <td>34.99</td>\n",
       "      <td>UK</td>\n",
       "      <td>year_7daytrial_49.99_new</td>\n",
       "    </tr>\n",
       "  </tbody>\n",
       "</table>\n",
       "<p>82819 rows × 7 columns</p>\n",
       "</div>"
      ],
      "text/plain": [
       "                user_id  period first_datetime purchase_datetime  \\\n",
       "10              3175269       7     2021-10-27        2021-10-27   \n",
       "12              3175269       7     2021-10-27        2021-11-11   \n",
       "14              3175269       7     2021-10-27        2021-11-18   \n",
       "16              3175269       7     2021-10-27        2021-11-25   \n",
       "275      98991984695457       7     2021-08-27        2021-08-27   \n",
       "...                 ...     ...            ...               ...   \n",
       "1043908  61906646031555     365     2021-08-11        2021-08-11   \n",
       "1043909  61906646031555     365     2021-08-11        2021-08-11   \n",
       "1043911  61906646031555     365     2021-08-11        2021-08-18   \n",
       "1043912  61906646031555     365     2021-08-11        2021-08-18   \n",
       "1043913  61906646031555     365     2021-08-11        2021-08-18   \n",
       "\n",
       "         net_revenue_usd country_code                product_id  \n",
       "10                  0.00           CI   week_7daytrial_6.99_new  \n",
       "12                  4.89           CI   week_7daytrial_6.99_new  \n",
       "14                  4.89           CI   week_7daytrial_6.99_new  \n",
       "16                  4.89           CI   week_7daytrial_6.99_new  \n",
       "275                 0.00           CZ   week_7daytrial_6.99_new  \n",
       "...                  ...          ...                       ...  \n",
       "1043908             0.00           UK  year_7daytrial_49.99_new  \n",
       "1043909             0.00           UK  year_7daytrial_49.99_new  \n",
       "1043911            34.99           UK  year_7daytrial_49.99_new  \n",
       "1043912            34.99           UK  year_7daytrial_49.99_new  \n",
       "1043913            34.99           UK  year_7daytrial_49.99_new  \n",
       "\n",
       "[82819 rows x 7 columns]"
      ]
     },
     "execution_count": 15,
     "metadata": {},
     "output_type": "execute_result"
    }
   ],
   "source": [
    "df[df.duplicated()]"
   ]
  },
  {
   "cell_type": "markdown",
   "metadata": {},
   "source": [
    "Маємо досить велику кількість дублікатів, видалимо їх."
   ]
  },
  {
   "cell_type": "code",
   "execution_count": 16,
   "metadata": {},
   "outputs": [],
   "source": [
    "df = df.drop_duplicates(keep='first').reset_index(drop = True)"
   ]
  },
  {
   "cell_type": "code",
   "execution_count": 17,
   "metadata": {},
   "outputs": [
    {
     "data": {
      "text/html": [
       "<div>\n",
       "<style scoped>\n",
       "    .dataframe tbody tr th:only-of-type {\n",
       "        vertical-align: middle;\n",
       "    }\n",
       "\n",
       "    .dataframe tbody tr th {\n",
       "        vertical-align: top;\n",
       "    }\n",
       "\n",
       "    .dataframe thead th {\n",
       "        text-align: right;\n",
       "    }\n",
       "</style>\n",
       "<table border=\"1\" class=\"dataframe\">\n",
       "  <thead>\n",
       "    <tr style=\"text-align: right;\">\n",
       "      <th></th>\n",
       "      <th>user_id</th>\n",
       "      <th>period</th>\n",
       "      <th>first_datetime</th>\n",
       "      <th>purchase_datetime</th>\n",
       "      <th>net_revenue_usd</th>\n",
       "      <th>country_code</th>\n",
       "      <th>product_id</th>\n",
       "    </tr>\n",
       "  </thead>\n",
       "  <tbody>\n",
       "  </tbody>\n",
       "</table>\n",
       "</div>"
      ],
      "text/plain": [
       "Empty DataFrame\n",
       "Columns: [user_id, period, first_datetime, purchase_datetime, net_revenue_usd, country_code, product_id]\n",
       "Index: []"
      ]
     },
     "execution_count": 17,
     "metadata": {},
     "output_type": "execute_result"
    }
   ],
   "source": [
    "df[df.duplicated()]"
   ]
  },
  {
   "cell_type": "code",
   "execution_count": 18,
   "metadata": {},
   "outputs": [
    {
     "name": "stdout",
     "output_type": "stream",
     "text": [
      "Всього маємо 268799 унікальних користувачів\n"
     ]
    }
   ],
   "source": [
    "print(f\"Всього маємо {len(df['user_id'].unique())} унікальних користувачів\")"
   ]
  },
  {
   "cell_type": "code",
   "execution_count": 19,
   "metadata": {},
   "outputs": [
    {
     "data": {
      "text/html": [
       "<div>\n",
       "<style scoped>\n",
       "    .dataframe tbody tr th:only-of-type {\n",
       "        vertical-align: middle;\n",
       "    }\n",
       "\n",
       "    .dataframe tbody tr th {\n",
       "        vertical-align: top;\n",
       "    }\n",
       "\n",
       "    .dataframe thead th {\n",
       "        text-align: right;\n",
       "    }\n",
       "</style>\n",
       "<table border=\"1\" class=\"dataframe\">\n",
       "  <thead>\n",
       "    <tr style=\"text-align: right;\">\n",
       "      <th></th>\n",
       "      <th>first_datetime</th>\n",
       "      <th>amount</th>\n",
       "    </tr>\n",
       "  </thead>\n",
       "  <tbody>\n",
       "    <tr>\n",
       "      <th>108</th>\n",
       "      <td>2021-08-01</td>\n",
       "      <td>4096</td>\n",
       "    </tr>\n",
       "    <tr>\n",
       "      <th>68</th>\n",
       "      <td>2021-08-02</td>\n",
       "      <td>5164</td>\n",
       "    </tr>\n",
       "    <tr>\n",
       "      <th>47</th>\n",
       "      <td>2021-08-03</td>\n",
       "      <td>5915</td>\n",
       "    </tr>\n",
       "    <tr>\n",
       "      <th>57</th>\n",
       "      <td>2021-08-04</td>\n",
       "      <td>5377</td>\n",
       "    </tr>\n",
       "    <tr>\n",
       "      <th>74</th>\n",
       "      <td>2021-08-05</td>\n",
       "      <td>5020</td>\n",
       "    </tr>\n",
       "  </tbody>\n",
       "</table>\n",
       "</div>"
      ],
      "text/plain": [
       "    first_datetime  amount\n",
       "108     2021-08-01    4096\n",
       "68      2021-08-02    5164\n",
       "47      2021-08-03    5915\n",
       "57      2021-08-04    5377\n",
       "74      2021-08-05    5020"
      ]
     },
     "execution_count": 19,
     "metadata": {},
     "output_type": "execute_result"
    }
   ],
   "source": [
    "df_amount_of_first = pd.DataFrame(df['first_datetime'].value_counts()).reset_index()\n",
    "df_amount_of_first.rename(columns = {'first_datetime':'amount','index':'first_datetime'}, inplace = True)\n",
    "df_amount_of_first.sort_values(by = 'first_datetime', inplace = True)\n",
    "df_amount_of_first.head()\n"
   ]
  },
  {
   "cell_type": "code",
   "execution_count": 20,
   "metadata": {},
   "outputs": [
    {
     "data": {
      "text/html": [
       "<div>\n",
       "<style scoped>\n",
       "    .dataframe tbody tr th:only-of-type {\n",
       "        vertical-align: middle;\n",
       "    }\n",
       "\n",
       "    .dataframe tbody tr th {\n",
       "        vertical-align: top;\n",
       "    }\n",
       "\n",
       "    .dataframe thead th {\n",
       "        text-align: right;\n",
       "    }\n",
       "</style>\n",
       "<table border=\"1\" class=\"dataframe\">\n",
       "  <thead>\n",
       "    <tr style=\"text-align: right;\">\n",
       "      <th></th>\n",
       "      <th>purchase_datetime</th>\n",
       "      <th>amount</th>\n",
       "    </tr>\n",
       "  </thead>\n",
       "  <tbody>\n",
       "    <tr>\n",
       "      <th>244</th>\n",
       "      <td>2021-08-01</td>\n",
       "      <td>791</td>\n",
       "    </tr>\n",
       "    <tr>\n",
       "      <th>241</th>\n",
       "      <td>2021-08-02</td>\n",
       "      <td>1057</td>\n",
       "    </tr>\n",
       "    <tr>\n",
       "      <th>237</th>\n",
       "      <td>2021-08-03</td>\n",
       "      <td>1153</td>\n",
       "    </tr>\n",
       "    <tr>\n",
       "      <th>239</th>\n",
       "      <td>2021-08-04</td>\n",
       "      <td>1129</td>\n",
       "    </tr>\n",
       "    <tr>\n",
       "      <th>240</th>\n",
       "      <td>2021-08-05</td>\n",
       "      <td>1077</td>\n",
       "    </tr>\n",
       "  </tbody>\n",
       "</table>\n",
       "</div>"
      ],
      "text/plain": [
       "    purchase_datetime  amount\n",
       "244        2021-08-01     791\n",
       "241        2021-08-02    1057\n",
       "237        2021-08-03    1153\n",
       "239        2021-08-04    1129\n",
       "240        2021-08-05    1077"
      ]
     },
     "execution_count": 20,
     "metadata": {},
     "output_type": "execute_result"
    }
   ],
   "source": [
    "df_amount_purchase = pd.DataFrame(df['purchase_datetime'].value_counts()).reset_index()\n",
    "df_amount_purchase.rename(columns = {'purchase_datetime':'amount','index':'purchase_datetime'}, inplace = True)\n",
    "df_amount_purchase.sort_values(by = 'purchase_datetime', inplace = True)\n",
    "df_amount_purchase.head()"
   ]
  },
  {
   "cell_type": "code",
   "execution_count": 21,
   "metadata": {},
   "outputs": [
    {
     "data": {
      "image/png": "[encoded data removed]",
      "text/plain": [
       "<Figure size 1440x360 with 2 Axes>"
      ]
     },
     "metadata": {
      "needs_background": "light"
     },
     "output_type": "display_data"
    }
   ],
   "source": [
    "fig, (ax1, ax2) = plt.subplots(1, 2, figsize=(20, 5))\n",
    "\n",
    "ax1.plot(df_amount_of_first['first_datetime'], df_amount_of_first['amount'])\n",
    "ax1.title.set_text('Динаміка перших дій користувачів')\n",
    "ax2.plot(df_amount_purchase['purchase_datetime'], df_amount_purchase['amount'])\n",
    "ax2.title.set_text('Динаміка дій користувачів')"
   ]
  },
  {
   "cell_type": "markdown",
   "metadata": {},
   "source": [
    "За графіками бачимо, що надані дані не мають суттєвих аномалій, окрім дат там де кількість перших дій користувачів падає різко до нуля."
   ]
  },
  {
   "cell_type": "code",
   "execution_count": 22,
   "metadata": {},
   "outputs": [
    {
     "data": {
      "text/plain": [
       "[7      960421\n",
       " 365       738\n",
       " Name: period, dtype: int64,\n",
       " 4.89     691934\n",
       " 0.00     269071\n",
       " 34.99       154\n",
       " Name: net_revenue_usd, dtype: int64]"
      ]
     },
     "execution_count": 22,
     "metadata": {},
     "output_type": "execute_result"
    }
   ],
   "source": [
    "[df[i].value_counts() for i in ['period', 'net_revenue_usd']]"
   ]
  },
  {
   "cell_type": "markdown",
   "metadata": {},
   "source": [
    "Значення period та net_revenue_usd не мають зайвих значень, але проглядається явна незбалансованість, яка має очевидне пояснення."
   ]
  },
  {
   "cell_type": "markdown",
   "metadata": {},
   "source": [
    "Виявимо можливі випадки, коли поточна операція відбувається раніше першої дати операції"
   ]
  },
  {
   "cell_type": "code",
   "execution_count": 23,
   "metadata": {},
   "outputs": [
    {
     "data": {
      "text/plain": [
       "32"
      ]
     },
     "execution_count": 23,
     "metadata": {},
     "output_type": "execute_result"
    }
   ],
   "source": [
    "len(df[df.first_datetime > df.purchase_datetime].user_id.unique())"
   ]
  },
  {
   "cell_type": "markdown",
   "metadata": {},
   "source": [
    "32 юзери мають дату поточної операції раніше аніж першої. Видалимо проблемних юзерів, так як їх небагато."
   ]
  },
  {
   "cell_type": "code",
   "execution_count": 24,
   "metadata": {},
   "outputs": [],
   "source": [
    "users = pd.unique(df[df.first_datetime > df.purchase_datetime].user_id)"
   ]
  },
  {
   "cell_type": "code",
   "execution_count": 25,
   "metadata": {},
   "outputs": [],
   "source": [
    "df.drop(df[df['user_id'].isin(users)].index, inplace = True)"
   ]
  },
  {
   "cell_type": "markdown",
   "metadata": {},
   "source": [
    "## Завдання 2. Розподіл днів між тріалом та першою оплатою"
   ]
  },
  {
   "cell_type": "markdown",
   "metadata": {},
   "source": [
    "Обчислимо кількість днів віднімаючи від дати другої операції дату першої, а також не будемо враховувати користувачів, які користувалися тільки тріалом."
   ]
  },
  {
   "cell_type": "markdown",
   "metadata": {},
   "source": [
    "Залишимо датасет з користовучами, які здійснили більше однієї операції"
   ]
  },
  {
   "cell_type": "code",
   "execution_count": 26,
   "metadata": {},
   "outputs": [],
   "source": [
    "df_bool = df.groupby(by = ['user_id']).count()['purchase_datetime'] == 1\n",
    "mask = df_bool[df_bool == True].index\n",
    "users_one_act = df[(df['user_id'].isin(mask)) & (df['net_revenue_usd'] == 0)]['user_id'].values"
   ]
  },
  {
   "cell_type": "code",
   "execution_count": 27,
   "metadata": {},
   "outputs": [],
   "source": [
    "df_to_dist = df[~(df['user_id'].isin(users_one_act))]\n"
   ]
  },
  {
   "cell_type": "markdown",
   "metadata": {},
   "source": [
    "Знайдемо розподіл"
   ]
  },
  {
   "cell_type": "code",
   "execution_count": 28,
   "metadata": {},
   "outputs": [],
   "source": [
    "df_to_dist['next_datetime'] = df_to_dist.sort_values(by=['purchase_datetime'], ascending=True)\\\n",
    "            .groupby(['user_id'])['purchase_datetime'].shift(-1)"
   ]
  },
  {
   "cell_type": "code",
   "execution_count": 29,
   "metadata": {},
   "outputs": [],
   "source": [
    "min_next = df_to_dist.groupby(by = ['user_id'])['next_datetime'].min()\n",
    "min_purchase = df_to_dist.groupby(by = ['user_id'])['purchase_datetime'].min()\n"
   ]
  },
  {
   "cell_type": "code",
   "execution_count": 30,
   "metadata": {},
   "outputs": [
    {
     "data": {
      "text/plain": [
       "array([1.31047629e-311, 1.31054681e-311, 8.23088665e-199, ...,\n",
       "       3.10000000e+001, 7.00000000e+000, 7.00000000e+000])"
      ]
     },
     "execution_count": 30,
     "metadata": {},
     "output_type": "execute_result"
    }
   ],
   "source": [
    "sub_days = np.ndarray(len(min_next))\n",
    "for i in range(0, len(min_next)):\n",
    "    sub_days = np.append(sub_days,(min_next[i] - min_purchase[i]).days)\n",
    "    \n",
    "sub_days"
   ]
  },
  {
   "cell_type": "code",
   "execution_count": 31,
   "metadata": {},
   "outputs": [
    {
     "data": {
      "text/plain": [
       "Text(0.5, 1.0, 'log розподіл')"
      ]
     },
     "execution_count": 31,
     "metadata": {},
     "output_type": "execute_result"
    },
    {
     "data": {
      "image/png": "[encoded data removed]",
      "text/plain": [
       "<Figure size 720x360 with 2 Axes>"
      ]
     },
     "metadata": {
      "needs_background": "light"
     },
     "output_type": "display_data"
    }
   ],
   "source": [
    "_, (ax1, ax2) = plt.subplots(1,2, figsize=(10, 5))\n",
    "ax1.hist(sub_days, bins = 40, color = 'blue', edgecolor = 'black')\n",
    "ax1.set_xlabel('Кількість днів')\n",
    "ax1.set_ylabel('Кількість користувачів')\n",
    "ax1.xaxis.set_ticks(np.arange(0, 200, 20))\n",
    "ax1.set_title('Звичайний розподіл')\n",
    "ax2.hist(sub_days, bins = 100,color = 'blue', edgecolor = 'black')\n",
    "ax2.set_yscale('log')\n",
    "ax2.set_xlabel('Кількість днів')\n",
    "ax2.set_ylabel('Кількість користувачів (log)')\n",
    "ax2.set_title('log розподіл')"
   ]
  },
  {
   "cell_type": "markdown",
   "metadata": {},
   "source": [
    "Можемо зробити висновок, що користувачі в основному оформлюють підписку в перші 10 днів, після активації тріалу. Велика кількість користувачів, які оплачують підписку, роблять це в перші дні користування тріалом, або навіть не користуються пробним періодом."
   ]
  },
  {
   "cell_type": "markdown",
   "metadata": {},
   "source": [
    "## Завдання 3. Розрахунок LTV за 26 тижнів"
   ]
  },
  {
   "cell_type": "markdown",
   "metadata": {},
   "source": [
    "Розрахуємо LTV за досить простою формулою LTV = Lifetime * ARPU, де Lifetime - середня кількість днів 'життя' користувача, а ARPU - середній дохід від активного користувача за період. Розраховувати будемо за 26 тижнів, тобто за весь період наданий в датасеті."
   ]
  },
  {
   "cell_type": "markdown",
   "metadata": {},
   "source": [
    "Порахуємо Lifetime"
   ]
  },
  {
   "cell_type": "code",
   "execution_count": 32,
   "metadata": {},
   "outputs": [],
   "source": [
    "date_min = df.groupby(by = ['user_id'])['purchase_datetime'].min()\n",
    "date_max = df.groupby(by = ['user_id'])['purchase_datetime'].max()\n",
    "num_uni_users = len(df['user_id'].unique())"
   ]
  },
  {
   "cell_type": "code",
   "execution_count": 36,
   "metadata": {},
   "outputs": [
    {
     "data": {
      "text/plain": [
       "array([ 0.,  0.,  0., ...,  0., 45.,  0.])"
      ]
     },
     "execution_count": 36,
     "metadata": {},
     "output_type": "execute_result"
    }
   ],
   "source": [
    "sub_days_ltv = np.ndarray(len(date_min))\n",
    "for i in range(0, len(date_min)):\n",
    "    sub_days_ltv = np.append(sub_days_ltv,(date_max[i] - date_min[i]).days)\n",
    "    \n",
    "sub_days_ltv"
   ]
  },
  {
   "cell_type": "code",
   "execution_count": 39,
   "metadata": {},
   "outputs": [],
   "source": [
    "lifetime = int(np.sum(sub_days_ltv) / num_uni_users)"
   ]
  },
  {
   "cell_type": "code",
   "execution_count": 40,
   "metadata": {},
   "outputs": [
    {
     "data": {
      "text/plain": [
       "21"
      ]
     },
     "execution_count": 40,
     "metadata": {},
     "output_type": "execute_result"
    }
   ],
   "source": [
    "lifetime"
   ]
  },
  {
   "cell_type": "markdown",
   "metadata": {},
   "source": [
    "Тривалість життя покупця - 21 день"
   ]
  },
  {
   "cell_type": "markdown",
   "metadata": {},
   "source": [
    "Тепер розрахуємо ARPU. Період для розрахунку візьмемо - місяць. "
   ]
  },
  {
   "cell_type": "code",
   "execution_count": 41,
   "metadata": {},
   "outputs": [],
   "source": [
    "res = df.groupby([df['user_id'], df['purchase_datetime'].dt.to_period('M')])['net_revenue_usd'].sum()"
   ]
  },
  {
   "cell_type": "code",
   "execution_count": 52,
   "metadata": {},
   "outputs": [],
   "source": [
    "res = pd.DataFrame(res).reset_index()"
   ]
  },
  {
   "cell_type": "code",
   "execution_count": 55,
   "metadata": {},
   "outputs": [],
   "source": [
    "revenue_month = res.groupby(by = ['purchase_datetime'])['net_revenue_usd'].sum()"
   ]
  },
  {
   "cell_type": "code",
   "execution_count": 76,
   "metadata": {},
   "outputs": [
    {
     "data": {
      "text/plain": [
       "purchase_datetime\n",
       "2021-08     76297.72\n",
       "2021-09    250916.21\n",
       "2021-10    384632.40\n",
       "2021-11    451397.42\n",
       "2021-12    526198.23\n",
       "2022-01    519137.07\n",
       "2022-02    505200.57\n",
       "2022-03    593606.88\n",
       "2022-04     79476.08\n",
       "Freq: M, Name: net_revenue_usd, dtype: float64"
      ]
     },
     "execution_count": 76,
     "metadata": {},
     "output_type": "execute_result"
    }
   ],
   "source": [
    "revenue_month"
   ]
  },
  {
   "cell_type": "code",
   "execution_count": 58,
   "metadata": {},
   "outputs": [],
   "source": [
    "av_rev_month = round(revenue_month.values.sum() / len(revenue_month), 2)"
   ]
  },
  {
   "cell_type": "code",
   "execution_count": 59,
   "metadata": {},
   "outputs": [
    {
     "data": {
      "text/plain": [
       "376318.06"
      ]
     },
     "execution_count": 59,
     "metadata": {},
     "output_type": "execute_result"
    }
   ],
   "source": [
    "av_rev_month"
   ]
  },
  {
   "cell_type": "markdown",
   "metadata": {},
   "source": [
    "Середній дохід за місяць - 376318.06. Розрахуємо середній дохід за місяць з користувача."
   ]
  },
  {
   "cell_type": "code",
   "execution_count": 62,
   "metadata": {},
   "outputs": [],
   "source": [
    "arpu = round(av_rev_month / num_uni_users, 1)"
   ]
  },
  {
   "cell_type": "code",
   "execution_count": 63,
   "metadata": {},
   "outputs": [
    {
     "data": {
      "text/plain": [
       "1.4"
      ]
     },
     "execution_count": 63,
     "metadata": {},
     "output_type": "execute_result"
    }
   ],
   "source": [
    "arpu"
   ]
  },
  {
   "cell_type": "markdown",
   "metadata": {},
   "source": [
    "Виходить що в середньому в місяць з одного користувача ми отримуємо 1.4$."
   ]
  },
  {
   "cell_type": "markdown",
   "metadata": {},
   "source": [
    "Тепер розрахуємо фактични LTV за 26 тижнів. Так як ARPU за місяць, то ми маємо 21/30 = 0.7 коефіцієнт пропорційності lifetime відносно місяця. Також так як ми порахували всі значення відносно повного циклу = 9 місяців - 36 тижнів, а нам потрібно за 26, то домножимо значення ltv на 26/36."
   ]
  },
  {
   "cell_type": "code",
   "execution_count": 79,
   "metadata": {},
   "outputs": [],
   "source": [
    "ltv_36 = round((lifetime* 0.7 * arpu), 2)"
   ]
  },
  {
   "cell_type": "code",
   "execution_count": 80,
   "metadata": {},
   "outputs": [
    {
     "data": {
      "text/plain": [
       "20.58"
      ]
     },
     "execution_count": 80,
     "metadata": {},
     "output_type": "execute_result"
    }
   ],
   "source": [
    "ltv_36"
   ]
  },
  {
   "cell_type": "code",
   "execution_count": 81,
   "metadata": {},
   "outputs": [],
   "source": [
    "ltv_26 = round(ltv_36*26./36., 2)"
   ]
  },
  {
   "cell_type": "code",
   "execution_count": 82,
   "metadata": {},
   "outputs": [
    {
     "data": {
      "text/plain": [
       "14.86"
      ]
     },
     "execution_count": 82,
     "metadata": {},
     "output_type": "execute_result"
    }
   ],
   "source": [
    "ltv_26"
   ]
  },
  {
   "cell_type": "markdown",
   "metadata": {},
   "source": [
    "Отже, якщо брати LTV за весь період, поданий в датасеті (36 тижнів), то це - 20.58 доларів. Якщо оцінити LTV за 26 тижнів, то виходить 14.68 доларів."
   ]
  },
  {
   "cell_type": "markdown",
   "metadata": {},
   "source": [
    "## Завдання 4. Окупність"
   ]
  },
  {
   "cell_type": "code",
   "execution_count": 89,
   "metadata": {},
   "outputs": [],
   "source": [
    "ltv_10_5 = round(ltv_36*10.5/36., 3)"
   ]
  },
  {
   "cell_type": "code",
   "execution_count": 90,
   "metadata": {},
   "outputs": [
    {
     "data": {
      "text/plain": [
       "6.002"
      ]
     },
     "execution_count": 90,
     "metadata": {},
     "output_type": "execute_result"
    }
   ],
   "source": [
    "ltv_10_5"
   ]
  },
  {
   "cell_type": "markdown",
   "metadata": {},
   "source": [
    "Якщо брати LTV за 10.5 тижнів, то отримуємо значення більше 6 доларів. Можемо вважати, що за 2.5 місяці дохід перекриє витрати на залучення юзера (6 доларів)."
   ]
  },
  {
   "cell_type": "code",
   "execution_count": null,
   "metadata": {},
   "outputs": [],
   "source": []
  }
 ],
 "metadata": {
  "kernelspec": {
   "display_name": "Python 3",
   "language": "python",
   "name": "python3"
  },
  "language_info": {
   "codemirror_mode": {
    "name": "ipython",
    "version": 3
   },
   "file_extension": ".py",
   "mimetype": "text/x-python",
   "name": "python",
   "nbconvert_exporter": "python",
   "pygments_lexer": "ipython3",
   "version": "3.8.3"
  }
 },
 "nbformat": 4,
 "nbformat_minor": 4
}
